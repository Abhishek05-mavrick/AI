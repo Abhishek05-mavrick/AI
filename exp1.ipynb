{
  "nbformat": 4,
  "nbformat_minor": 0,
  "metadata": {
    "colab": {
      "provenance": []
    },
    "kernelspec": {
      "name": "python3",
      "display_name": "Python 3"
    },
    "language_info": {
      "name": "python"
    }
  },
  "cells": [
    {
      "cell_type": "code",
      "execution_count": null,
      "metadata": {
        "colab": {
          "base_uri": "https://localhost:8080/"
        },
        "id": "Ia61Eaa0iMws",
        "outputId": "3d8eca42-ae39-4ee0-c0bb-8251074be084"
      },
      "outputs": [
        {
          "output_type": "stream",
          "name": "stdout",
          "text": [
            "Original Array: [12  4 56 17  8 99  5]\n",
            "Sorted Array: [ 4  5  8 12 17 56 99]\n"
          ]
        }
      ],
      "source": [
        "import numpy as np\n",
        "array = np.array([12, 4, 56, 17, 8, 99, 5])\n",
        "print(\"Original Array:\", array)\n",
        "print(\"Sorted Array:\", np.sort(array))"
      ]
    },
    {
      "cell_type": "code",
      "source": [],
      "metadata": {
        "id": "pNiYld9GiSCt"
      },
      "execution_count": 2,
      "outputs": []
    },
    {
      "cell_type": "code",
      "source": [],
      "metadata": {
        "id": "jziunlABjAlg"
      },
      "execution_count": null,
      "outputs": []
    }
  ]
}