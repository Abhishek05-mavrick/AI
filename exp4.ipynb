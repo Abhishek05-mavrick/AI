{
  "nbformat": 4,
  "nbformat_minor": 0,
  "metadata": {
    "colab": {
      "provenance": [],
      "authorship_tag": "ABX9TyMqgZdugklWt3xLxSFHmchj",
      "include_colab_link": true
    },
    "kernelspec": {
      "name": "python3",
      "display_name": "Python 3"
    },
    "language_info": {
      "name": "python"
    }
  },
  "cells": [
    {
      "cell_type": "markdown",
      "metadata": {
        "id": "view-in-github",
        "colab_type": "text"
      },
      "source": [
        "<a href=\"https://colab.research.google.com/github/Abhishek05-mavrick/AI/blob/main/exp4.ipynb\" target=\"_parent\"><img src=\"https://colab.research.google.com/assets/colab-badge.svg\" alt=\"Open In Colab\"/></a>"
      ]
    },
    {
      "cell_type": "code",
      "execution_count": 1,
      "metadata": {
        "colab": {
          "base_uri": "https://localhost:8080/"
        },
        "id": "FByTVPxXkf7-",
        "outputId": "dff608c4-0902-4b54-9a33-3905a6614aff"
      },
      "outputs": [
        {
          "output_type": "stream",
          "name": "stdout",
          "text": [
            "Shortest path: ['A', 'C', 'D']\n",
            "Total cost: 5\n"
          ]
        }
      ],
      "source": [
        "\n",
        "import heapq\n",
        "class Graph:\n",
        "    def __init__(self):\n",
        "        self.graph = {}\n",
        "    def add_edge(self, node1, node2, cost):\n",
        "        if node1 not in self.graph:\n",
        "            self.graph[node1] = []\n",
        "        if node2 not in self.graph:\n",
        "            self.graph[node2] = []\n",
        "        self.graph[node1].append((node2, cost))\n",
        "        self.graph[node2].append((node1, cost))\n",
        "    def a_star(self, start, goal, heuristic):\n",
        "        open_list = []\n",
        "        heapq.heappush(open_list, (0 + heuristic[start], 0, start, []))\n",
        "        closed_set = set()\n",
        "        while open_list:\n",
        "            _, cost, current, path = heapq.heappop(open_list)\n",
        "            if current in closed_set:\n",
        "                continue\n",
        "            path = path + [current]\n",
        "            closed_set.add(current)\n",
        "            if current == goal:\n",
        "                return path, cost\n",
        "            for neighbor, edge_cost in self.graph.get(current, []):\n",
        "                if neighbor not in closed_set:\n",
        "                    heapq.heappush(open_list, (cost + edge_cost + heuristic[neighbor], cost + edge_cost, neighbor, path))\n",
        "        return None, float(\"inf\")\n",
        "graph = Graph()\n",
        "graph.add_edge(\"A\", \"B\", 1)\n",
        "graph.add_edge(\"A\", \"C\", 4)\n",
        "graph.add_edge(\"B\", \"C\", 2)\n",
        "graph.add_edge(\"B\", \"D\", 5)\n",
        "graph.add_edge(\"C\", \"D\", 1)\n",
        "test_heuristic = {\"A\": 7, \"B\": 6, \"C\": 2, \"D\": 0}\n",
        "path, cost = graph.a_star(\"A\", \"D\", test_heuristic)\n",
        "print(\"Shortest path:\", path)\n",
        "print(\"Total cost:\", cost)"
      ]
    },
    {
      "cell_type": "code",
      "source": [],
      "metadata": {
        "id": "kQVwMFTCkw-m"
      },
      "execution_count": null,
      "outputs": []
    }
  ]
}